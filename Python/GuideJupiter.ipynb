{
 "cells": [
  {
   "cell_type": "code",
   "execution_count": null,
   "metadata": {},
   "outputs": [],
   "source": [
    "#Prompt de Comando\n",
    "#cd      Seleciona pasta\n",
    "#cd ..   Volta pasta\n",
    "#python  Abre Python\n",
    "#quit() ou exit()  Fecha o Python"
   ]
  },
  {
   "cell_type": "code",
   "execution_count": null,
   "metadata": {},
   "outputs": [],
   "source": [
    "#Definições\n",
    "# = comentário \n",
    "#iniciar contagem em 0\n",
    "#whitespace = não precisa de _ entre '' ou entre \"\"\n",
    "#len(data) = conta o número de caracteres (whitespace conta)\n",
    "#type(data) = mostra o tipo de data\n",
    "#letras = entre '' ou entre \"\"\n",
    "#números = não precisa de '' nem \"\"\n",
    "#caracteres = letras e números juntos \n",
    "#objetos = caracteres e floats juntos"
   ]
  },
  {
   "cell_type": "code",
   "execution_count": null,
   "metadata": {},
   "outputs": [],
   "source": [
    "#Tipos de Data\n",
    "#integers = int = números inteiros = 1 2 3\n",
    "#floating point = float=números decimais = 1.2, 1.3\n",
    "#strings = str = sequência mutável e ordenada de caracteres = 1, \"olá\"\n",
    "#lists = list = sequência mutável e ordenada de objetos = [1, \"olá\", 1.0]\n",
    "#dictionaries = dict = sequência não ordenada de keys com valores = {\"k1\":\"v1\"}\n",
    "#tuples = tup = sequência imutável e ordenada de objetos imutáveis = (1, \"olá\", 1.0)\n",
    "#sets = set = list sem repetição de elementos = {1}\n",
    "#booleans = bool = operador lógico de veracidade = True or False\n",
    "#none = none = serve para adicionar algo sem atribuir algo imediatamente"
   ]
  },
  {
   "cell_type": "code",
   "execution_count": null,
   "metadata": {},
   "outputs": [],
   "source": [
    "#Matemática\n",
    "#adição = + = 1+1\n",
    "#subtração = - = 1-1\n",
    "#multiplicação = * = 1*1\n",
    "#divisão = / = 1/1\n",
    "#resto da divisão = % = 1%1\n",
    "#potenciação = ** = 1**1\n",
    "#radiciação = **0.5 = 1**0.5"
   ]
  },
  {
   "cell_type": "code",
   "execution_count": null,
   "metadata": {},
   "outputs": [],
   "source": [
    "#Print\n",
    "#print(data)\n",
    "#print('I'm running') = falso\n",
    "#print(\"I'm running\") = verdadeiro\n",
    "#\\n = próxima linha"
   ]
  },
  {
   "cell_type": "code",
   "execution_count": null,
   "metadata": {
    "scrolled": true
   },
   "outputs": [],
   "source": [
    "print(\"Hello World\")"
   ]
  },
  {
   "cell_type": "code",
   "execution_count": null,
   "metadata": {},
   "outputs": [],
   "source": [
    "print(\"Hello \\nWorld\")"
   ]
  },
  {
   "cell_type": "code",
   "execution_count": null,
   "metadata": {},
   "outputs": [],
   "source": [
    "#Strings = str = sequência mutável e ordenada de caracteres = 1, \"olá\""
   ]
  },
  {
   "cell_type": "code",
   "execution_count": null,
   "metadata": {},
   "outputs": [],
   "source": [
    "my_1=1\n",
    "my_2=2\n",
    "huge_monster=my_1+my_2\n",
    "huge_monster"
   ]
  },
  {
   "cell_type": "code",
   "execution_count": null,
   "metadata": {},
   "outputs": [],
   "source": [
    "len(\"my_1\")"
   ]
  },
  {
   "cell_type": "code",
   "execution_count": null,
   "metadata": {},
   "outputs": [],
   "source": [
    "mystring=\"abc\""
   ]
  },
  {
   "cell_type": "code",
   "execution_count": null,
   "metadata": {},
   "outputs": [],
   "source": [
    "mystring[0] #primeiro"
   ]
  },
  {
   "cell_type": "code",
   "execution_count": null,
   "metadata": {},
   "outputs": [],
   "source": [
    "mystring[1] #segundo"
   ]
  },
  {
   "cell_type": "code",
   "execution_count": null,
   "metadata": {},
   "outputs": [],
   "source": [
    "mystring[2] #terceiro"
   ]
  },
  {
   "cell_type": "code",
   "execution_count": null,
   "metadata": {},
   "outputs": [],
   "source": [
    "mystring[-1] #último"
   ]
  },
  {
   "cell_type": "code",
   "execution_count": null,
   "metadata": {},
   "outputs": [],
   "source": [
    "mystring[2:] #a partir de 2"
   ]
  },
  {
   "cell_type": "code",
   "execution_count": null,
   "metadata": {},
   "outputs": [],
   "source": [
    "mystring[:2] #antes de 3"
   ]
  },
  {
   "cell_type": "code",
   "execution_count": null,
   "metadata": {},
   "outputs": [],
   "source": [
    "mystring[1:3] #a partir de 1 antes de 4"
   ]
  },
  {
   "cell_type": "code",
   "execution_count": null,
   "metadata": {},
   "outputs": [],
   "source": [
    "mystring[::2] #pular de 2 em 2 "
   ]
  },
  {
   "cell_type": "code",
   "execution_count": null,
   "metadata": {},
   "outputs": [],
   "source": [
    "mystring[::-1]"
   ]
  },
  {
   "cell_type": "code",
   "execution_count": null,
   "metadata": {},
   "outputs": [],
   "source": [
    "#String Concatenation"
   ]
  },
  {
   "cell_type": "code",
   "execution_count": null,
   "metadata": {},
   "outputs": [],
   "source": [
    "mystring=\"number\"\n",
    "mystring=1\n",
    "number*2"
   ]
  },
  {
   "cell_type": "code",
   "execution_count": null,
   "metadata": {},
   "outputs": [],
   "source": [
    "#Functions"
   ]
  },
  {
   "cell_type": "code",
   "execution_count": null,
   "metadata": {},
   "outputs": [],
   "source": [
    "x=\"Aaaaa\"\n",
    "x.upper() #todas letras maiúsculas"
   ]
  },
  {
   "cell_type": "code",
   "execution_count": null,
   "metadata": {},
   "outputs": [],
   "source": [
    "x.lower() #todas letras minúsculas"
   ]
  },
  {
   "cell_type": "code",
   "execution_count": null,
   "metadata": {},
   "outputs": [],
   "source": [
    "x=\"Hello World\"\n",
    "x.split(\"o\") #separa (letra)"
   ]
  },
  {
   "cell_type": "code",
   "execution_count": null,
   "metadata": {},
   "outputs": [],
   "source": [
    "#String Interpollation"
   ]
  },
  {
   "cell_type": "code",
   "execution_count": null,
   "metadata": {},
   "outputs": [],
   "source": [
    "print(\"I have an {}\".format(\"announcement\")) #adiciona mais data"
   ]
  },
  {
   "cell_type": "code",
   "execution_count": null,
   "metadata": {},
   "outputs": [],
   "source": [
    "print(\"I {} {} {}\".format(\"have\", \"an\", \"announcemment\")) #{} = sem ordem atribuída, logo usa ordem posicional"
   ]
  },
  {
   "cell_type": "code",
   "execution_count": null,
   "metadata": {},
   "outputs": [],
   "source": [
    "print(\"I {0} {1} {2}\".format(\"have\", \"an\", \"announcemment\")) #ordem posicional"
   ]
  },
  {
   "cell_type": "code",
   "execution_count": null,
   "metadata": {},
   "outputs": [],
   "source": [
    "print(\"I {a} {b} {c}\".format(a=\"have\", b=\"an\", c=\"announcemment\")) #ordem atribuída"
   ]
  },
  {
   "cell_type": "code",
   "execution_count": null,
   "metadata": {},
   "outputs": [],
   "source": [
    "#Float Formatting\n",
    "#{value:width.precision f} = {r:1.2f}"
   ]
  },
  {
   "cell_type": "code",
   "execution_count": null,
   "metadata": {},
   "outputs": [],
   "source": [
    "result = 100/777\n",
    "result = 104.12345\n",
    "print(\"The result was {r:1.2f}\".format(r=result))"
   ]
  },
  {
   "cell_type": "code",
   "execution_count": null,
   "metadata": {},
   "outputs": [],
   "source": [
    "name = \"William\"\n",
    "print(f\"Hello, my name is {name}\")"
   ]
  },
  {
   "cell_type": "code",
   "execution_count": null,
   "metadata": {},
   "outputs": [],
   "source": [
    "#Lists = list = sequência mutável e ordenada de objetos = [1, \"olá\", 1.0]"
   ]
  },
  {
   "cell_type": "code",
   "execution_count": null,
   "metadata": {},
   "outputs": [],
   "source": [
    "mylist=[\"one\",\"two\",\"three\"]\n",
    "mylist"
   ]
  },
  {
   "cell_type": "code",
   "execution_count": null,
   "metadata": {},
   "outputs": [],
   "source": [
    "mylist[0]"
   ]
  },
  {
   "cell_type": "code",
   "execution_count": null,
   "metadata": {},
   "outputs": [],
   "source": [
    "mylist.append(\"four\") #adicionar \"four\" a mylist"
   ]
  },
  {
   "cell_type": "code",
   "execution_count": null,
   "metadata": {},
   "outputs": [],
   "source": [
    "mylist #\"four\" foi adicionado a mylist"
   ]
  },
  {
   "cell_type": "code",
   "execution_count": 26,
   "metadata": {},
   "outputs": [
    {
     "output_type": "error",
     "ename": "IndexError",
     "evalue": "pop from empty list",
     "traceback": [
      "\u001b[1;31m---------------------------------------------------------------------------\u001b[0m",
      "\u001b[1;31mIndexError\u001b[0m                                Traceback (most recent call last)",
      "\u001b[1;32m<ipython-input-26-4259f53e0c29>\u001b[0m in \u001b[0;36m<module>\u001b[1;34m\u001b[0m\n\u001b[1;32m----> 1\u001b[1;33m \u001b[0mmylist\u001b[0m\u001b[1;33m.\u001b[0m\u001b[0mpop\u001b[0m\u001b[1;33m(\u001b[0m\u001b[1;36m0\u001b[0m\u001b[1;33m)\u001b[0m \u001b[1;31m#remover \"one\" de mylist\u001b[0m\u001b[1;33m\u001b[0m\u001b[1;33m\u001b[0m\u001b[0m\n\u001b[0m",
      "\u001b[1;31mIndexError\u001b[0m: pop from empty list"
     ]
    }
   ],
   "source": [
    "mylist.pop(0) #remover \"one\" de mylist"
   ]
  },
  {
   "cell_type": "code",
   "execution_count": null,
   "metadata": {},
   "outputs": [],
   "source": [
    "mylist #\"one\" foi removido de mylist"
   ]
  },
  {
   "cell_type": "code",
   "execution_count": null,
   "metadata": {},
   "outputs": [],
   "source": [
    "mylist.sort() #ordenar mylist alfabeticamente e numericamente"
   ]
  },
  {
   "cell_type": "code",
   "execution_count": null,
   "metadata": {},
   "outputs": [],
   "source": [
    "mylist #mylist foi ordenada alfabeticamente e numericamente"
   ]
  },
  {
   "cell_type": "code",
   "execution_count": null,
   "metadata": {},
   "outputs": [],
   "source": [
    "mylist.reverse() #inverter mylist"
   ]
  },
  {
   "cell_type": "code",
   "execution_count": null,
   "metadata": {},
   "outputs": [],
   "source": [
    "mylist #mylist foi invertida"
   ]
  },
  {
   "cell_type": "code",
   "execution_count": null,
   "metadata": {},
   "outputs": [],
   "source": [
    "mylist.pop() #remover último de mylist"
   ]
  },
  {
   "cell_type": "code",
   "execution_count": null,
   "metadata": {},
   "outputs": [],
   "source": [
    "mylist #\"último\" foi removido de mylist"
   ]
  },
  {
   "cell_type": "code",
   "execution_count": null,
   "metadata": {},
   "outputs": [],
   "source": [
    "#Dictionaries = dict = sequência não ordenada de keys com valores = {\"key1\":\"value1\"}\n",
    "#Items = keys e values juntos"
   ]
  },
  {
   "cell_type": "code",
   "execution_count": null,
   "metadata": {},
   "outputs": [],
   "source": [
    "mydict={\"key1\":\"value1\", \"key2\":\"value2\"}\n"
   ]
  },
  {
   "cell_type": "code",
   "execution_count": null,
   "metadata": {},
   "outputs": [],
   "source": [
    "mydict[\"key1\"] #obter value1 de key1"
   ]
  },
  {
   "cell_type": "code",
   "execution_count": null,
   "metadata": {},
   "outputs": [],
   "source": [
    "mydict[\"key2\"] #obter value2 de key2"
   ]
  },
  {
   "cell_type": "code",
   "execution_count": null,
   "metadata": {},
   "outputs": [],
   "source": [
    "mydict[\"key1\"] = [0,1,2,3] #atribuir valor a value1 da key1"
   ]
  },
  {
   "cell_type": "code",
   "execution_count": null,
   "metadata": {},
   "outputs": [],
   "source": [
    "mydict[\"key2\"] = [4,5,6,7] #atribuir valor a value2 da key2"
   ]
  },
  {
   "cell_type": "code",
   "execution_count": null,
   "metadata": {},
   "outputs": [],
   "source": [
    "mydict"
   ]
  },
  {
   "cell_type": "code",
   "execution_count": null,
   "metadata": {},
   "outputs": [],
   "source": [
    "mydict.keys() #key1, key 2"
   ]
  },
  {
   "cell_type": "code",
   "execution_count": null,
   "metadata": {},
   "outputs": [],
   "source": [
    "mydict.items() #key1  e value 1, key2 e value2 "
   ]
  },
  {
   "cell_type": "code",
   "execution_count": null,
   "metadata": {},
   "outputs": [],
   "source": [
    "d={\"key1\":{\"key2\":\"hello\"}} #dict dentro de um dict"
   ]
  },
  {
   "cell_type": "code",
   "execution_count": null,
   "metadata": {},
   "outputs": [],
   "source": [
    "#Tirar o \"hello\""
   ]
  },
  {
   "cell_type": "code",
   "execution_count": null,
   "metadata": {},
   "outputs": [],
   "source": [
    "d[\"key1\"] [\"key2\"] #tirar value 2 da key2 da key1"
   ]
  },
  {
   "cell_type": "code",
   "execution_count": null,
   "metadata": {},
   "outputs": [],
   "source": [
    "#Tuples = tup = sequência imutável e ordenada de objetos imutáveis = (1, \"olá\", 1.0)"
   ]
  },
  {
   "cell_type": "code",
   "execution_count": null,
   "metadata": {},
   "outputs": [],
   "source": [
    "t=(\"a\",\"a\",\"b\")"
   ]
  },
  {
   "cell_type": "code",
   "execution_count": null,
   "metadata": {},
   "outputs": [],
   "source": [
    "t"
   ]
  },
  {
   "cell_type": "code",
   "execution_count": null,
   "metadata": {},
   "outputs": [],
   "source": [
    "t.count(\"a\") #contar quantos \"a\""
   ]
  },
  {
   "cell_type": "code",
   "execution_count": null,
   "metadata": {},
   "outputs": [],
   "source": [
    "t.count(\"b\") #contar quantos \"b\""
   ]
  },
  {
   "cell_type": "code",
   "execution_count": null,
   "metadata": {},
   "outputs": [],
   "source": [
    "t.index(\"a\") #mostrar posição de \"a\""
   ]
  },
  {
   "cell_type": "code",
   "execution_count": null,
   "metadata": {},
   "outputs": [],
   "source": [
    "t.index(\"b\") #mostrar posição de \"b\""
   ]
  },
  {
   "cell_type": "code",
   "execution_count": null,
   "metadata": {},
   "outputs": [],
   "source": [
    "#Sets = set = list sem repetição de elementos = {1}"
   ]
  },
  {
   "cell_type": "code",
   "execution_count": null,
   "metadata": {},
   "outputs": [],
   "source": [
    "myset=set() #criar set"
   ]
  },
  {
   "cell_type": "code",
   "execution_count": null,
   "metadata": {},
   "outputs": [],
   "source": [
    "myset.add(1) #adicionar \"1\""
   ]
  },
  {
   "cell_type": "code",
   "execution_count": null,
   "metadata": {},
   "outputs": [],
   "source": [
    "myset"
   ]
  },
  {
   "cell_type": "code",
   "execution_count": null,
   "metadata": {},
   "outputs": [],
   "source": [
    "myset.add(2) #adicionar \"2\""
   ]
  },
  {
   "cell_type": "code",
   "execution_count": null,
   "metadata": {},
   "outputs": [],
   "source": [
    "myset"
   ]
  },
  {
   "cell_type": "code",
   "execution_count": null,
   "metadata": {},
   "outputs": [],
   "source": [
    "myset.add(2) #adicionar \"2\" novamente não funcionará pois não há repetição em sets"
   ]
  },
  {
   "cell_type": "code",
   "execution_count": null,
   "metadata": {},
   "outputs": [],
   "source": [
    "myset"
   ]
  },
  {
   "cell_type": "code",
   "execution_count": null,
   "metadata": {},
   "outputs": [],
   "source": [
    "mylistset=[1,1,1,2,2,2,3,3,3] #list\n",
    "set(mylistset) #transformar list em set"
   ]
  },
  {
   "cell_type": "code",
   "execution_count": null,
   "metadata": {},
   "outputs": [],
   "source": [
    "#Booleans = bool = operador lógico de veracidade = True or False\n",
    "#> = Maior \n",
    "#< = Menor\n",
    "#=> = Maior ou igual\n",
    "#=< = Menor ou igual\n",
    "#== = Igual\n",
    "#!= = Desigual"
   ]
  },
  {
   "cell_type": "code",
   "execution_count": null,
   "metadata": {},
   "outputs": [],
   "source": [
    "1>2"
   ]
  },
  {
   "cell_type": "code",
   "execution_count": null,
   "metadata": {},
   "outputs": [],
   "source": [
    "1<2"
   ]
  },
  {
   "cell_type": "code",
   "execution_count": null,
   "metadata": {},
   "outputs": [],
   "source": [
    "#File Iinput/Output\n",
    "\n",
    "#Criar um arquivo de texto com três linhas\n",
    "#%%writefile texto1.txt \n",
    "#1 line\n",
    "#2 line\n",
    "#3 line\n",
    "\n",
    "#Abrir um arquivo de texto\n",
    "#myfile=open(\"texto1.txt\")\n",
    "#ou myfile=open(\"caminho\")\n",
    "\n",
    "#Fechar um arquivo de texto\n",
    "#myfile.close()\n",
    "\n",
    "#Ler um arquivo de texto\n",
    "#myfile.read()\n",
    "#\"1 line\\n2line\\n3line\"\n",
    "\n",
    "#Ler e formatar um arquivo de texto \n",
    "#myfile.readlines()\n",
    "#[\"1 line\n",
    "#2 line\n",
    "#3 line\"]\n",
    "\n",
    "#Modes\n",
    "#r = read apenas\n",
    "#w = write apenas (sobrescreve ou cria novo)\n",
    "#a = append apenas (adiciona)\n",
    "#r+ = read + write\n",
    "#w+ = write + read\n",
    "\n",
    "#Abrir um arquivo de texto sem precisar fechar\n",
    "#with open(\"texto1.txt\", mode=\"w\") as f:\n",
    "#   contents=f.read()\n",
    "\n",
    "#Adicionar linhas a um arquivo de texto sem precisar fechar\n",
    "#with open(\"texto1.txt\", mode=\"a\") as f:\n",
    "#   f.write(\"4 line\")\n",
    "\n",
    "#Ler e formatar um arquivo de texto sem precisar fechar\n",
    "#with open(\"texto1.txt\", mode=\"r\") as f:\n",
    "#   print(f.read())\n",
    "\n",
    "#Sobrescrever ou criar um novo arquivo de texto sem precisar fechar\n",
    "#with open(\"texto1.txt\", mode=\"w\") as f:\n",
    "#f.write(\"Hello World\")\n",
    "\n",
    "#Versão Redux \n",
    "#x=open(\"texto1.txt\",\"w\")\n",
    "#x.write(\"Hello World\")\n",
    "#x.close"
   ]
  },
  {
   "cell_type": "code",
   "execution_count": null,
   "metadata": {},
   "outputs": [],
   "source": [
    "#Operadores Lógicos\n",
    "#and = e = todos precisam estar corretos para True\n",
    "#or = ou = um ou mais precisa estar correto para True\n",
    "#not = não = mostra o oposto da veracidade (o que for True vira False e vice-versa)"
   ]
  },
  {
   "cell_type": "code",
   "execution_count": null,
   "metadata": {},
   "outputs": [],
   "source": [
    "1<2<3"
   ]
  },
  {
   "cell_type": "code",
   "execution_count": null,
   "metadata": {},
   "outputs": [],
   "source": [
    "1<2 and 2<3 #todos precisam estar corretos para True"
   ]
  },
  {
   "cell_type": "code",
   "execution_count": null,
   "metadata": {},
   "outputs": [],
   "source": [
    "1<2 and 2>3 #um está errado, portanto False"
   ]
  },
  {
   "cell_type": "code",
   "execution_count": null,
   "metadata": {},
   "outputs": [],
   "source": [
    "1==1 or 2==2 #um ou mais está correto, portanto True"
   ]
  },
  {
   "cell_type": "code",
   "execution_count": null,
   "metadata": {},
   "outputs": [],
   "source": [
    "1==100 or 2==2 #um ou mais está correto, portanto True"
   ]
  },
  {
   "cell_type": "code",
   "execution_count": null,
   "metadata": {},
   "outputs": [],
   "source": [
    "not 1==1 #mostra o oposto da veracidade, portanto oposto de True=False"
   ]
  },
  {
   "cell_type": "code",
   "execution_count": null,
   "metadata": {},
   "outputs": [],
   "source": [
    "not 1==2 #mostra o oposto da veracidade, portanto oposto de False=True"
   ]
  },
  {
   "cell_type": "code",
   "execution_count": null,
   "metadata": {},
   "outputs": [],
   "source": [
    "#Control Flow\n",
    "#if\n",
    "#elif\n",
    "#else\n",
    "#if some_condition: True\n",
    "  #executar um código\n",
    "#elif some_other_condition: True\n",
    "  #executar mais outro código\n",
    "#else: fazer outra coisa"
   ]
  },
  {
   "cell_type": "code",
   "execution_count": null,
   "metadata": {},
   "outputs": [],
   "source": [
    "if 3>2: #se 3 for maior que 2, mostrar que é True\n",
    "    print(\"It's true\")"
   ]
  },
  {
   "cell_type": "code",
   "execution_count": null,
   "metadata": {},
   "outputs": [],
   "source": [
    "#Dog\n",
    "hungry=False\n",
    "if hungry:\n",
    "    print(\"Feed me\")\n",
    "else:\n",
    "    print(\"I'm not hungry\")"
   ]
  },
  {
   "cell_type": "code",
   "execution_count": null,
   "metadata": {},
   "outputs": [],
   "source": [
    "#Dog\n",
    "hungry=True\n",
    "if hungry:\n",
    "    print(\"Feed me\")\n",
    "else:\n",
    "    print(\"I'm not hungry\")"
   ]
  },
  {
   "cell_type": "code",
   "execution_count": 27,
   "metadata": {},
   "outputs": [
    {
     "output_type": "stream",
     "name": "stdout",
     "text": [
      "Welcome to the bank!\n"
     ]
    }
   ],
   "source": [
    "location=\"Bank\" #local=banco\n",
    "if location==\"Auto Shop\": #se local for Auto Shop\n",
    "    print(\"Welcome to the Auto Shop!\") #printar isso\n",
    "elif location==\"Bank\": #se local for Bank\n",
    "    print(\"Welcome to the bank!\") #printar isso\n",
    "elif location==\"Shop\": #se local for Shop\n",
    "    print(\"Welcome to the store!\") #printar isso\n",
    "else: #se local for outro \n",
    "    print(\"I don't know where i am bro i'm in the middle of nowhere\") #printar isso"
   ]
  },
  {
   "cell_type": "code",
   "execution_count": 29,
   "metadata": {},
   "outputs": [
    {
     "output_type": "stream",
     "name": "stdout",
     "text": [
      "What is your name?\n"
     ]
    }
   ],
   "source": [
    "name=\"Jose\"\n",
    "if name==\"Frankie\":\n",
    "    print(\"Hello Frankie!\")\n",
    "elif name==\"Sammy\":\n",
    "    print(\"Hello Sammy\")\n",
    "else:\n",
    "    print(\"What is your name?\")"
   ]
  },
  {
   "cell_type": "code",
   "execution_count": null,
   "metadata": {},
   "outputs": [],
   "source": []
  }
 ],
 "metadata": {
  "kernelspec": {
   "name": "python395jvsc74a57bd0d2741c62eeb6d3c2dbd0c707b9d4df7ca82c89a9cca53ee8435971b6b6816686",
   "display_name": "Python 3.9.5 64-bit"
  },
  "language_info": {
   "codemirror_mode": {
    "name": "ipython",
    "version": 3
   },
   "file_extension": ".py",
   "mimetype": "text/x-python",
   "name": "python",
   "nbconvert_exporter": "python",
   "pygments_lexer": "ipython3",
   "version": "3.9.5"
  },
  "metadata": {
   "interpreter": {
    "hash": "d2741c62eeb6d3c2dbd0c707b9d4df7ca82c89a9cca53ee8435971b6b6816686"
   }
  }
 },
 "nbformat": 4,
 "nbformat_minor": 4
}